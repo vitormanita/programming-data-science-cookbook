{
 "cells": [
  {
   "cell_type": "markdown",
   "metadata": {},
   "source": [
    "# Exercises"
   ]
  },
  {
   "cell_type": "markdown",
   "metadata": {},
   "source": [
    "__ex 1:__ Print the concatenation of \"I\" \"love\" \"pizza\""
   ]
  },
  {
   "cell_type": "code",
   "execution_count": 14,
   "metadata": {},
   "outputs": [
    {
     "name": "stdout",
     "output_type": "stream",
     "text": [
      "I love pizza\n"
     ]
    }
   ],
   "source": [
    "print (\"I \" + \"love \" + \"pizza\")"
   ]
  },
  {
   "cell_type": "markdown",
   "metadata": {},
   "source": [
    "__ex 2:__ Create a variable called `name` with your name and print the following sentence: `\"Hello, my name is <name>\"`"
   ]
  },
  {
   "cell_type": "code",
   "execution_count": 15,
   "metadata": {},
   "outputs": [
    {
     "name": "stdout",
     "output_type": "stream",
     "text": [
      "Hello, my name is John\n"
     ]
    }
   ],
   "source": [
    "name = \"John\"\n",
    "print(f\"Hello, my name is {name}\")"
   ]
  },
  {
   "cell_type": "markdown",
   "metadata": {},
   "source": [
    "__ex 3:__ Create a list with the values [3, 5, 2, 10, 1] and print the first 3 elements by slicing the list"
   ]
  },
  {
   "cell_type": "code",
   "execution_count": 16,
   "metadata": {},
   "outputs": [
    {
     "name": "stdout",
     "output_type": "stream",
     "text": [
      "[3, 5, 2]\n"
     ]
    }
   ],
   "source": [
    "l = [3, 5, 2, 10, 1]\n",
    "print(l[:3])"
   ]
  },
  {
   "cell_type": "markdown",
   "metadata": {},
   "source": [
    "__ex 4:__ Use the following two lists for the next exercise"
   ]
  },
  {
   "cell_type": "code",
   "execution_count": 17,
   "metadata": {},
   "outputs": [],
   "source": [
    "l1 = [5312, 21, 1230, 3213, 233, 22]\n",
    "l2 = [9586, 7184, 5312, 3675, 7082,  636, 9501,  298, 21]"
   ]
  },
  {
   "cell_type": "markdown",
   "metadata": {},
   "source": [
    "Write the code to answer the following questions:\n",
    "1. Is the first element of l1 equal to the third element of l2? (Print True or False)\n",
    "2. Is the second element of l1 equal to the last element of l2? (Print True or False)\n",
    "3. Sum the first 4 elements of l1\n",
    "4. Sum the last 2 elements of l2"
   ]
  },
  {
   "cell_type": "code",
   "execution_count": 18,
   "metadata": {},
   "outputs": [
    {
     "name": "stdout",
     "output_type": "stream",
     "text": [
      "True\n",
      "True\n",
      "9776\n",
      "319\n"
     ]
    }
   ],
   "source": [
    "# 1\n",
    "print(l1[0] == l2[2])\n",
    "\n",
    "# 2\n",
    "print(l1[1] == l2[-1])\n",
    "\n",
    "# 3\n",
    "print(sum(l1[:4]))\n",
    "\n",
    "# 4\n",
    "print(sum(l2[-2:]))\n"
   ]
  },
  {
   "cell_type": "markdown",
   "metadata": {},
   "source": [
    "__ex 5:__ Reverse the following list in python"
   ]
  },
  {
   "cell_type": "code",
   "execution_count": 19,
   "metadata": {},
   "outputs": [],
   "source": [
    "mylist = [100, 200, 300, 400, 500]"
   ]
  },
  {
   "cell_type": "markdown",
   "metadata": {},
   "source": [
    "__ex 6:__ Concatenate the following 2 lists"
   ]
  },
  {
   "cell_type": "code",
   "execution_count": 20,
   "metadata": {},
   "outputs": [],
   "source": [
    "l1 = [1, 2, 3]\n",
    "l2 = [4, 5, 6]"
   ]
  },
  {
   "cell_type": "markdown",
   "metadata": {},
   "source": [
    "__ex 7:__ Find the value 20 in the following list and replace it with 200"
   ]
  },
  {
   "cell_type": "code",
   "execution_count": 21,
   "metadata": {},
   "outputs": [
    {
     "data": {
      "text/plain": [
       "[5, 10, 1, 3, 7, 200, 100, 500, 42, 11]"
      ]
     },
     "execution_count": 21,
     "metadata": {},
     "output_type": "execute_result"
    }
   ],
   "source": [
    "mylist = [5, 10, 1, 3, 7, 20, 100, 500, 42, 11]\n",
    "\n",
    "idx = mylist.index(20)\n",
    "mylist[idx] = 200\n",
    "\n",
    "mylist"
   ]
  }
 ],
 "metadata": {
  "kernelspec": {
   "display_name": "Python 3.8.8 64-bit ('3.8.8')",
   "language": "python",
   "name": "python3"
  },
  "language_info": {
   "codemirror_mode": {
    "name": "ipython",
    "version": 3
   },
   "file_extension": ".py",
   "mimetype": "text/x-python",
   "name": "python",
   "nbconvert_exporter": "python",
   "pygments_lexer": "ipython3",
   "version": "3.8.8"
  },
  "orig_nbformat": 4,
  "vscode": {
   "interpreter": {
    "hash": "6f2322e388951880e07f0317d9ab9609c2fd482367d5a78994febea5b71d29d8"
   }
  }
 },
 "nbformat": 4,
 "nbformat_minor": 2
}
