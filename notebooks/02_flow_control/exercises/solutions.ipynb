{
 "cells": [
  {
   "cell_type": "markdown",
   "metadata": {},
   "source": [
    "# Exercises"
   ]
  },
  {
   "cell_type": "markdown",
   "metadata": {},
   "source": [
    "__ex 1:__ Write a program that prints all numbers between 0 and 10 (inclusive)"
   ]
  },
  {
   "cell_type": "code",
   "execution_count": 1,
   "metadata": {},
   "outputs": [
    {
     "name": "stdout",
     "output_type": "stream",
     "text": [
      "0\n",
      "1\n",
      "2\n",
      "3\n",
      "4\n",
      "5\n",
      "6\n",
      "7\n",
      "8\n",
      "9\n",
      "10\n"
     ]
    }
   ],
   "source": [
    "for num in range(11):\n",
    "    print(num)"
   ]
  },
  {
   "cell_type": "markdown",
   "metadata": {},
   "source": [
    "__ex 2:__ Write a program that prints all the numbers from 0 to 6 (inclusive) except 3 and 5."
   ]
  },
  {
   "cell_type": "code",
   "execution_count": 2,
   "metadata": {},
   "outputs": [
    {
     "name": "stdout",
     "output_type": "stream",
     "text": [
      "0\n",
      "1\n",
      "2\n",
      "4\n",
      "5\n"
     ]
    }
   ],
   "source": [
    "for num in range(7):\n",
    "    if not num in [3, 6]:\n",
    "        print(num)"
   ]
  },
  {
   "cell_type": "markdown",
   "metadata": {},
   "source": [
    "__ex 3:__ Write a program to iterate the first 10 numbers and in each iteration, print the sum of the current and previous number. <br>\n",
    "```\n",
    "# Desired output:\n",
    "0\n",
    "1\n",
    "3\n",
    "5\n",
    "7\n",
    "9\n",
    "11\n",
    "13\n",
    "15\n",
    "17\n",
    "```"
   ]
  },
  {
   "cell_type": "code",
   "execution_count": 3,
   "metadata": {},
   "outputs": [
    {
     "name": "stdout",
     "output_type": "stream",
     "text": [
      "0\n",
      "1\n",
      "3\n",
      "5\n",
      "7\n",
      "9\n",
      "11\n",
      "13\n",
      "15\n",
      "17\n"
     ]
    }
   ],
   "source": [
    "previous = 0\n",
    "for nr in range(10):\n",
    "    previous += nr\n",
    "    print(previous)\n",
    "    previous = nr"
   ]
  },
  {
   "cell_type": "markdown",
   "metadata": {},
   "source": [
    "__ex 4:__ Create the following list: `[10, 2, 864, 123, 4326, 12, 1]`. Sort the list (ascendingly). <br>\n",
    "Iterate the list:\n",
    "- For each element, if the number is divisible by 2, print: `\"Number <number> is divisible by 2\"`\n",
    "- If the number is not divisible by 2, print `\"Number <number> is not divisible by 2\"`"
   ]
  },
  {
   "cell_type": "code",
   "execution_count": 4,
   "metadata": {},
   "outputs": [
    {
     "name": "stdout",
     "output_type": "stream",
     "text": [
      "Number 1 is not divisible by 2\n",
      "Number 2 is divisible by 2\n",
      "Number 10 is divisible by 2\n",
      "Number 12 is divisible by 2\n",
      "Number 123 is not divisible by 2\n",
      "Number 864 is divisible by 2\n",
      "Number 4326 is divisible by 2\n"
     ]
    }
   ],
   "source": [
    "list = [10, 2, 864, 123, 4326, 12, 1]\n",
    "list = sorted(list)\n",
    "\n",
    "for nr in list:\n",
    "    if nr % 2 == 0:\n",
    "        print(f\"Number {nr} is divisible by 2\")\n",
    "    else:\n",
    "        print(f\"Number {nr} is not divisible by 2\")"
   ]
  },
  {
   "cell_type": "markdown",
   "metadata": {},
   "source": [
    "__ex 5:__ Create an empty list. Then, write a program that iterates the numbers between 3000 and 4200 (both included) and finds all that are divisible by 7 but are not multiple of 5.<br>\n",
    "The corresponding numbers should be appended to the new empty list. <br>\n",
    "How many numbers meet these conditions?"
   ]
  },
  {
   "cell_type": "code",
   "execution_count": 2,
   "metadata": {},
   "outputs": [
    {
     "name": "stdout",
     "output_type": "stream",
     "text": [
      "137\n"
     ]
    }
   ],
   "source": [
    "l = []\n",
    "for number in range(3000, 4201):\n",
    "    if (number % 7 == 0) and (number % 5 != 0):\n",
    "        l.append(number)\n",
    "\n",
    "print(len(l))"
   ]
  },
  {
   "cell_type": "markdown",
   "metadata": {},
   "source": [
    "__ex 6:__ Write a program that is able to calculate the factorial of any number, e.g.: <br>\n",
    "- num = 4\n",
    "- factorial = 4 * 3 * 2 * 1 = 24"
   ]
  },
  {
   "cell_type": "code",
   "execution_count": 5,
   "metadata": {},
   "outputs": [
    {
     "name": "stdout",
     "output_type": "stream",
     "text": [
      "24\n"
     ]
    }
   ],
   "source": [
    "num = 4\n",
    "\n",
    "factorial = 1\n",
    "while num > 1:\n",
    "    factorial = factorial * num\n",
    "    num = num - 1\n",
    "\n",
    "print(factorial)"
   ]
  }
 ],
 "metadata": {
  "kernelspec": {
   "display_name": "Python 3.8.8 64-bit ('3.8.8')",
   "language": "python",
   "name": "python3"
  },
  "language_info": {
   "codemirror_mode": {
    "name": "ipython",
    "version": 3
   },
   "file_extension": ".py",
   "mimetype": "text/x-python",
   "name": "python",
   "nbconvert_exporter": "python",
   "pygments_lexer": "ipython3",
   "version": "3.8.8"
  },
  "orig_nbformat": 4,
  "vscode": {
   "interpreter": {
    "hash": "6f2322e388951880e07f0317d9ab9609c2fd482367d5a78994febea5b71d29d8"
   }
  }
 },
 "nbformat": 4,
 "nbformat_minor": 2
}
