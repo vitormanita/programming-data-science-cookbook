{
 "cells": [
  {
   "cell_type": "markdown",
   "metadata": {},
   "source": [
    "# Exercises"
   ]
  },
  {
   "cell_type": "markdown",
   "metadata": {},
   "source": [
    "__ex 1:__ Create a simple function that takes two arguments:\n",
    "- name: name of a person (string)\n",
    "- age: age of a person (integer)\n",
    "  \n",
    "The function should print the string `Hey, my name is <name> and I am <age> years old`"
   ]
  },
  {
   "cell_type": "code",
   "execution_count": null,
   "metadata": {},
   "outputs": [],
   "source": []
  },
  {
   "cell_type": "markdown",
   "metadata": {},
   "source": [
    "__ex 2:__ Create a function that calculates and returns the squared area of any square/rectangle object. The function should take two arguments: `a` and `b`, each regarding the lenght of a side. <br>\n",
    "What is the sqared area of the following shapes:\n",
    "- 5 by 5\n",
    "- 20 by 5\n",
    "- 12 by 26 "
   ]
  },
  {
   "cell_type": "code",
   "execution_count": null,
   "metadata": {},
   "outputs": [],
   "source": []
  },
  {
   "cell_type": "markdown",
   "metadata": {},
   "source": [
    "__ex 3:__ Create a function called `blackjack` that has the following behavior: Given three integers between 1 and 11, if their sum is less than or equal to 21, return their sum. If their sum exceeds 21 and there\"s an eleven, reduce the total sum by 10. Finally, if the sum (even after adjustment) exceeds 21, return \"BUST\". Additionally, if any of the parsed numbers is higher than 11 or smaller than 1, the function should return \"ERROR: INVALID INTEGERS\""
   ]
  },
  {
   "cell_type": "code",
   "execution_count": null,
   "metadata": {},
   "outputs": [],
   "source": [
    "def blackjack():\n",
    "    pass"
   ]
  },
  {
   "cell_type": "code",
   "execution_count": null,
   "metadata": {},
   "outputs": [],
   "source": [
    "# The following code will assert/check that the function is returning the right answers. If not, an error will be raised\n",
    "assert blackjack(5, 6, 7) == 18\n",
    "assert blackjack(9, 9, 9) == \"BUST\"\n",
    "assert blackjack(9, 9, 11) == 19\n",
    "assert blackjack(0, 1, 2) == \"ERROR: INVALID INTEGERS\"\n",
    "assert blackjack(1, 12, 2) == \"ERROR: INVALID INTEGERS\""
   ]
  },
  {
   "cell_type": "markdown",
   "metadata": {},
   "source": [
    "__ex 4:__ Create a function called `repeater` that, given a string and a number of times (repetitions), returns a string where for every character in the original there are N characters. <br>\n",
    "Ex: `repeater(\"Hello\", 3) --> \"HHHeeellllllooo\"` (3 times each character)"
   ]
  },
  {
   "cell_type": "code",
   "execution_count": null,
   "metadata": {},
   "outputs": [],
   "source": [
    "def repeater():\n",
    "    pass"
   ]
  },
  {
   "cell_type": "code",
   "execution_count": null,
   "metadata": {},
   "outputs": [],
   "source": [
    "assert repeater(\"Hello\", 3) == \"HHHeeellllllooo\"\n",
    "assert repeater(\"Bye\", 5) == \"BBBBByyyyyeeeee\"\n",
    "assert repeater(\"Something\", 0) == \"\"\n",
    "assert repeater(\"Wordle\", 1) == \"Wordle\""
   ]
  },
  {
   "cell_type": "markdown",
   "metadata": {},
   "source": [
    "__ex 5:__ Write a function called `james_bond` that takes in a list of integers and returns True if it contains 007 in order. Otherwise, it should return False"
   ]
  },
  {
   "cell_type": "code",
   "execution_count": null,
   "metadata": {},
   "outputs": [],
   "source": [
    "def james_bond():\n",
    "    pass"
   ]
  },
  {
   "cell_type": "code",
   "execution_count": null,
   "metadata": {},
   "outputs": [],
   "source": [
    "assert james_bond([0, 0, 7]) == True\n",
    "assert james_bond([7, 0, 0]) == False\n",
    "assert james_bond([1,0,2,4,0,5,7]) == False\n",
    "assert james_bond([1,2,4,0,0,7,5]) == True"
   ]
  },
  {
   "cell_type": "markdown",
   "metadata": {},
   "source": [
    "__ex 6:__ Define a class named `Circle` which can be constructed by a radius. The Circle class has a method which can compute the area of a respective circle. <br>\n",
    "Ex: c = Circle(5) will create a circle with radius 5. If I call c.area(), the result of the circle area must be returned.\n",
    "\n",
    "__Note: Consider the pi value as 3.14 to simplify__"
   ]
  },
  {
   "cell_type": "code",
   "execution_count": null,
   "metadata": {},
   "outputs": [],
   "source": [
    "class Circle:\n",
    "    pass"
   ]
  },
  {
   "cell_type": "code",
   "execution_count": null,
   "metadata": {},
   "outputs": [],
   "source": [
    "circle1 = Circle(r=2)\n",
    "assert circle1.area() == 12.56\n",
    "\n",
    "circle2 = Circle(r=5)\n",
    "assert circle2.area() == 78.5\n",
    "\n",
    "circle3 = Circle(r=25)\n",
    "assert circle3.area() == 1962.5"
   ]
  }
 ],
 "metadata": {
  "interpreter": {
   "hash": "71d84d5fbec03e539ddee4277c44e46d17e41902bc48e573a203c618ed81f635"
  },
  "kernelspec": {
   "display_name": "Python 3.8.8 ('python-book-0X2_qh8g-py3.8')",
   "language": "python",
   "name": "python3"
  },
  "language_info": {
   "codemirror_mode": {
    "name": "ipython",
    "version": 3
   },
   "file_extension": ".py",
   "mimetype": "text/x-python",
   "name": "python",
   "nbconvert_exporter": "python",
   "pygments_lexer": "ipython3",
   "version": "3.8.8"
  },
  "orig_nbformat": 4
 },
 "nbformat": 4,
 "nbformat_minor": 2
}
