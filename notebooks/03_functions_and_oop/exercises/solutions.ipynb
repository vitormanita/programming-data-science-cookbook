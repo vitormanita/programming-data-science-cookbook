{
 "cells": [
  {
   "cell_type": "markdown",
   "metadata": {},
   "source": [
    "# Exercises"
   ]
  },
  {
   "cell_type": "markdown",
   "metadata": {},
   "source": [
    "__ex 1:__ Create a simple function that takes two arguments:\n",
    "- name: name of a person (string)\n",
    "- age: age of a person (integer)\n",
    "  \n",
    "The function should print the string `Hey, my name is <name> and I am <age> years old`"
   ]
  },
  {
   "cell_type": "code",
   "execution_count": 1,
   "metadata": {},
   "outputs": [
    {
     "name": "stdout",
     "output_type": "stream",
     "text": [
      "Hey, my name is John and I am 20 years old\n"
     ]
    }
   ],
   "source": [
    "def f(name, age):\n",
    "    print(f\"Hey, my name is {name} and I am {age} years old\")\n",
    "\n",
    "f(\"John\", 20)"
   ]
  },
  {
   "cell_type": "markdown",
   "metadata": {},
   "source": [
    "__ex 2:__ Create a function that calculates and returns the squared area of any square/rectangle object. The function should take two arguments: `a` and `b`, each regarding the lenght of a side. <br>\n",
    "What is the sqared area of the following shapes:\n",
    "- 5 by 5\n",
    "- 20 by 5\n",
    "- 12 by 26 "
   ]
  },
  {
   "cell_type": "code",
   "execution_count": 2,
   "metadata": {},
   "outputs": [
    {
     "name": "stdout",
     "output_type": "stream",
     "text": [
      "25\n",
      "100\n",
      "312\n"
     ]
    }
   ],
   "source": [
    "def get_squared_area(a, b):\n",
    "    return a * b\n",
    "\n",
    "print(get_squared_area(5, 5))\n",
    "print(get_squared_area(20, 5))\n",
    "print(get_squared_area(12, 26))"
   ]
  },
  {
   "cell_type": "markdown",
   "metadata": {},
   "source": [
    "__ex 3:__ Create a function called `blackjack` that has the following behavior: Given three integers between 1 and 11, if their sum is less than or equal to 21, return their sum. If their sum exceeds 21 and there\"s an eleven, reduce the total sum by 10. Finally, if the sum (even after adjustment) exceeds 21, return \"BUST\". Additionally, if any of the parsed numbers is higher than 11 or smaller than 1, the function should return \"ERROR: INVALID INTEGERS\""
   ]
  },
  {
   "cell_type": "code",
   "execution_count": 39,
   "metadata": {},
   "outputs": [],
   "source": [
    "def blackjack(a, b, c):\n",
    "    total = sum([a, b, c])\n",
    "    if any((nr > 11) or (nr < 1) for nr in [a, b, c]):\n",
    "        return \"ERROR: INVALID INTEGERS\"\n",
    "    \n",
    "    if total <= 21:\n",
    "        return total\n",
    "    else:\n",
    "        if 11 in [a, b, c]:\n",
    "            total = total - 10\n",
    "        \n",
    "        if total > 21:\n",
    "            return \"BUST\"\n",
    "        \n",
    "        return total"
   ]
  },
  {
   "cell_type": "code",
   "execution_count": 43,
   "metadata": {},
   "outputs": [],
   "source": [
    "# The following code will assert/check that the function is returning the right answers. If not, an error will be raised\n",
    "assert blackjack(5, 6, 7) == 18\n",
    "assert blackjack(9, 9, 9) == \"BUST\"\n",
    "assert blackjack(9, 9, 11) == 19\n",
    "assert blackjack(0, 1, 2) == \"ERROR: INVALID INTEGERS\"\n",
    "assert blackjack(1, 12, 2) == \"ERROR: INVALID INTEGERS\""
   ]
  },
  {
   "cell_type": "markdown",
   "metadata": {},
   "source": [
    "__ex 4:__ Create a function called `repeater` that, given a string and a number of times (repetitions), returns a string where for every character in the original there are N characters. <br>\n",
    "Ex: `repeater(\"Hello\", 3) --> \"HHHeeellllllooo\"` (3 times each character)"
   ]
  },
  {
   "cell_type": "code",
   "execution_count": 58,
   "metadata": {},
   "outputs": [],
   "source": [
    "def repeater(word, times):\n",
    "    new_word = \"\"\n",
    "    for letter in word:\n",
    "        new_word = new_word + \"\".join([letter] * times)\n",
    "    return new_word"
   ]
  },
  {
   "cell_type": "code",
   "execution_count": 83,
   "metadata": {},
   "outputs": [],
   "source": [
    "assert repeater(\"Hello\", 3) == \"HHHeeellllllooo\"\n",
    "assert repeater(\"Bye\", 5) == \"BBBBByyyyyeeeee\"\n",
    "assert repeater(\"Something\", 0) == \"\"\n",
    "assert repeater(\"Wordle\", 1) == \"Wordle\""
   ]
  },
  {
   "cell_type": "markdown",
   "metadata": {},
   "source": [
    "__ex 5:__ Write a function called `james_bond` that takes in a list of integers and returns True if it contains 007 in order. Otherwise, it should return False"
   ]
  },
  {
   "cell_type": "code",
   "execution_count": 68,
   "metadata": {},
   "outputs": [],
   "source": [
    "def james_bond(numbers):\n",
    "    numbers_as_string = [str(x) for x in numbers]\n",
    "    numbers_as_string = \"\".join(numbers_as_string)\n",
    "    if \"007\" in numbers_as_string:\n",
    "        return True\n",
    "    return False"
   ]
  },
  {
   "cell_type": "code",
   "execution_count": 72,
   "metadata": {},
   "outputs": [],
   "source": [
    "assert james_bond([0, 0, 7]) == True\n",
    "assert james_bond([7, 0, 0]) == False\n",
    "assert james_bond([1,0,2,4,0,5,7]) == False\n",
    "assert james_bond([1,2,4,0,0,7,5]) == True"
   ]
  },
  {
   "cell_type": "markdown",
   "metadata": {},
   "source": [
    "__ex 6:__ Define a class named `Circle` which can be constructed by a radius. The Circle class has a method which can compute the area of a respective circle. <br>\n",
    "Ex: c = Circle(5) will create a circle with radius 5. If I call c.area(), the result of the circle area must be returned.\n",
    "\n",
    "__Note: Consider the pi value as 3.14 to simplify__"
   ]
  },
  {
   "cell_type": "code",
   "execution_count": 84,
   "metadata": {},
   "outputs": [],
   "source": [
    "class Circle:\n",
    "    def __init__(self, r):\n",
    "        self.radius = r\n",
    "\n",
    "    def area(self):\n",
    "        return self.radius ** 2 * 3.14"
   ]
  },
  {
   "cell_type": "code",
   "execution_count": 85,
   "metadata": {},
   "outputs": [],
   "source": [
    "circle1 = Circle(r=2)\n",
    "assert circle1.area() == 12.56\n",
    "\n",
    "circle2 = Circle(r=5)\n",
    "assert circle2.area() == 78.5\n",
    "\n",
    "circle3 = Circle(r=25)\n",
    "assert circle3.area() == 1962.5"
   ]
  }
 ],
 "metadata": {
  "interpreter": {
   "hash": "71d84d5fbec03e539ddee4277c44e46d17e41902bc48e573a203c618ed81f635"
  },
  "kernelspec": {
   "display_name": "Python 3.8.8 ('python-book-0X2_qh8g-py3.8')",
   "language": "python",
   "name": "python3"
  },
  "language_info": {
   "codemirror_mode": {
    "name": "ipython",
    "version": 3
   },
   "file_extension": ".py",
   "mimetype": "text/x-python",
   "name": "python",
   "nbconvert_exporter": "python",
   "pygments_lexer": "ipython3",
   "version": "3.8.8"
  },
  "orig_nbformat": 4
 },
 "nbformat": 4,
 "nbformat_minor": 2
}
