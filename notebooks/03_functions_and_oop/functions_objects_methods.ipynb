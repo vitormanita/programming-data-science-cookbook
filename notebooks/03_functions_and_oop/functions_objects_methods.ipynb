{
 "cells": [
  {
   "cell_type": "markdown",
   "metadata": {},
   "source": [
    "# Functions, Objects, and Methods"
   ]
  },
  {
   "cell_type": "markdown",
   "metadata": {},
   "source": [
    "## Functions\n",
    "Functions are the primary and most important method of code organization and reuse in Python. As a rule of thumb, if you anticipate needing to repeat the same or very similar code more than once, it may be worth writing a reusable function. Func‐ tions can also help make your code more readable by giving a name to a group of Python statements.\n",
    "\n",
    "__NOTE:__ By convention, functions should have all-lowercase names"
   ]
  },
  {
   "cell_type": "markdown",
   "metadata": {},
   "source": [
    "Functions are declared with the `def` keyword"
   ]
  },
  {
   "cell_type": "code",
   "execution_count": 2,
   "metadata": {},
   "outputs": [
    {
     "name": "stdout",
     "output_type": "stream",
     "text": [
      "Hello World\n"
     ]
    }
   ],
   "source": [
    "def func():\n",
    "    print(\"Hello World\")\n",
    "\n",
    "func()"
   ]
  },
  {
   "cell_type": "code",
   "execution_count": 16,
   "metadata": {},
   "outputs": [
    {
     "name": "stdout",
     "output_type": "stream",
     "text": [
      "Hello John\n",
      "Hello Linus\n"
     ]
    }
   ],
   "source": [
    "def func(name):\n",
    "    print(f\"Hello {name}\")\n",
    "\n",
    "func(\"John\")\n",
    "func(\"Linus\")"
   ]
  },
  {
   "cell_type": "markdown",
   "metadata": {},
   "source": [
    "To return something from the function, use the keyword `return`"
   ]
  },
  {
   "cell_type": "code",
   "execution_count": 3,
   "metadata": {},
   "outputs": [
    {
     "data": {
      "text/plain": [
       "15"
      ]
     },
     "execution_count": 3,
     "metadata": {},
     "output_type": "execute_result"
    }
   ],
   "source": [
    "def sum_numbers(a, b):\n",
    "    return a + b\n",
    "\n",
    "sum_numbers(10, 5)"
   ]
  },
  {
   "cell_type": "markdown",
   "metadata": {},
   "source": [
    "Each function can have positional arguments and keyword arguments.\n",
    "You don't need to explicitly define which parameter you are writing (__positional arguments__). <br>\n",
    "Remember that if you parse arguments like this, the order in which you write them is relevant."
   ]
  },
  {
   "cell_type": "code",
   "execution_count": 8,
   "metadata": {},
   "outputs": [
    {
     "name": "stdout",
     "output_type": "stream",
     "text": [
      "-1\n",
      "1\n"
     ]
    }
   ],
   "source": [
    "def subtract_numbers(a, b):\n",
    "    return a-b\n",
    "\n",
    "print(subtract_numbers(2, 3))\n",
    "print(subtract_numbers(3, 2))"
   ]
  },
  {
   "cell_type": "markdown",
   "metadata": {},
   "source": [
    "However, it is a __good practice__ to define the parsed arguments to increase visibility and interpretability. This is called __keyword arguments__. <br>\n",
    "It also allow you write elements in wahtever order you want, as long as you explicitly define the keywords."
   ]
  },
  {
   "cell_type": "code",
   "execution_count": 9,
   "metadata": {},
   "outputs": [
    {
     "name": "stdout",
     "output_type": "stream",
     "text": [
      "-1\n",
      "-1\n"
     ]
    }
   ],
   "source": [
    "print(subtract_numbers(a=2, b=3))\n",
    "print(subtract_numbers(b=3, a=2))"
   ]
  },
  {
   "cell_type": "markdown",
   "metadata": {},
   "source": [
    "It might seem redundant but imagine the following scenario in which we are using a complex object, e.g. KMeans, which allows for multiple arguments:\n",
    "\n",
    "`KMeans(8, 'k-means++', 10, 300, 0.0001, 0, None, True, 'auto')`\n",
    "\n",
    "What does each argument mean? <br>\n",
    "Now let's look at the same example but with keywords:\n",
    "\n",
    "`KMeans(n_clusters=8, *, init='k-means++', n_init=10, max_iter=300, tol=0.0001, verbose=0, random_state=None, copy_x=True, algorithm='auto')`\n",
    "\n",
    "Much easier to understand, right? :)"
   ]
  },
  {
   "cell_type": "markdown",
   "metadata": {},
   "source": [
    "Python has support for so-called anonymous or lambda functions, which are a way of writing functions consisting of a single statement, the result of which is the return value. They are defined with the lambda keyword, which has no meaning other than “we are declaring an anonymous function”.\n",
    "\n",
    "One reason lambda functions are called anonymous functions is that , unlike functions declared with the def keyword, the function object itself is never given an explicit __name__ attribute."
   ]
  },
  {
   "cell_type": "code",
   "execution_count": 10,
   "metadata": {},
   "outputs": [
    {
     "name": "stdout",
     "output_type": "stream",
     "text": [
      "20\n",
      "20\n"
     ]
    }
   ],
   "source": [
    "# These 2 functions do the same\n",
    "def exp2(x):\n",
    "    return x * 2\n",
    "\n",
    "anon_exp2 = lambda x: x * 2\n",
    "\n",
    "print(anon_exp2(10))\n",
    "print(exp2(10))"
   ]
  },
  {
   "cell_type": "markdown",
   "metadata": {},
   "source": [
    "If you are still thinking about what to do with your code but you know you want to have a specific function/method, you can use the keyword `pass` that avoids errors when calling the function"
   ]
  },
  {
   "cell_type": "code",
   "execution_count": 17,
   "metadata": {},
   "outputs": [],
   "source": [
    "def my_function():\n",
    "    pass"
   ]
  },
  {
   "cell_type": "markdown",
   "metadata": {},
   "source": [
    "We can use default arguments to determine the default behavior of a certain arg. If we call the function without that argument, it uses the default value"
   ]
  },
  {
   "cell_type": "code",
   "execution_count": 13,
   "metadata": {},
   "outputs": [
    {
     "name": "stdout",
     "output_type": "stream",
     "text": [
      "Hello John Doe\n",
      "Hello Tom\n"
     ]
    }
   ],
   "source": [
    "def say_my_name(name=\"John Doe\"):\n",
    "    return \"Hello \" + name\n",
    "\n",
    "print(say_my_name())\n",
    "print(say_my_name(\"Tom\"))"
   ]
  },
  {
   "cell_type": "code",
   "execution_count": 14,
   "metadata": {},
   "outputs": [
    {
     "name": "stdout",
     "output_type": "stream",
     "text": [
      "[0, 5]\n",
      "[-1, 6]\n"
     ]
    }
   ],
   "source": [
    "def get_list(min, max, delta=0):\n",
    "    return [min - delta, max + delta]\n",
    "\n",
    "print(get_list(min=0, max=5))\n",
    "print(get_list(min=0, max=5, delta = 1))"
   ]
  },
  {
   "cell_type": "markdown",
   "metadata": {},
   "source": [
    "Here's an example on how to apply a function to every element of a list, using the `map` function"
   ]
  },
  {
   "cell_type": "code",
   "execution_count": 14,
   "metadata": {},
   "outputs": [
    {
     "data": {
      "text/plain": [
       "[True, True, False, False, True]"
      ]
     },
     "execution_count": 14,
     "metadata": {},
     "output_type": "execute_result"
    }
   ],
   "source": [
    "def divisible_by_two(x):\n",
    "    return x % 2 == 0\n",
    "\n",
    "a = [4, 0, 1, 5, 6]\n",
    "\n",
    "list(map(divisible_by_two, a))"
   ]
  },
  {
   "cell_type": "markdown",
   "metadata": {},
   "source": [
    "Recursion\n",
    "Python also accepts function recursion, which means a defined function can call itself.\n",
    "\n",
    "Recursion is a common mathematical and programming concept. It means that a function calls itself. This has the benefit of meaning that you can loop through data to reach a result.\n",
    "\n",
    "The developer should be very careful with recursion as it can be quite easy to slip into writing a function which never terminates, or one that uses excess amounts of memory or processor power. However, when written correctly recursion can be a very efficient and mathematically-elegant approach to programming."
   ]
  },
  {
   "cell_type": "code",
   "execution_count": 18,
   "metadata": {},
   "outputs": [
    {
     "name": "stdout",
     "output_type": "stream",
     "text": [
      "24\n"
     ]
    }
   ],
   "source": [
    "def factorial(x):\n",
    "    if x == 1:\n",
    "        return 1\n",
    "    else:\n",
    "        return (x * factorial(x-1))\n",
    "\n",
    "\n",
    "num = 4\n",
    "print(factorial(num))"
   ]
  },
  {
   "cell_type": "markdown",
   "metadata": {},
   "source": [
    "## Object-Oriented Programming (OOP)"
   ]
  },
  {
   "cell_type": "markdown",
   "metadata": {},
   "source": [
    "Classes are used to create user-defined data structures. Classes define functions called methods, which identify the behaviors and actions that an object created from the class can perform with its data.<br>\n",
    "__A class is a blueprint for how something should be defined. It doesn’t actually contain any data.__\n",
    "\n",
    "__NOTE:__ By convention, class names should use CapitalizedWords notation"
   ]
  },
  {
   "cell_type": "markdown",
   "metadata": {},
   "source": [
    "All class definitions start with the `class` keyword, which is followed by the name of the class and a colon. Any code that is indented below the class definition is considered part of the class’s body."
   ]
  },
  {
   "cell_type": "code",
   "execution_count": 19,
   "metadata": {},
   "outputs": [],
   "source": [
    "class Dog:\n",
    "    pass"
   ]
  },
  {
   "cell_type": "code",
   "execution_count": 20,
   "metadata": {},
   "outputs": [
    {
     "data": {
      "text/plain": [
       "<__main__.Dog at 0x110c52670>"
      ]
     },
     "execution_count": 20,
     "metadata": {},
     "output_type": "execute_result"
    }
   ],
   "source": [
    "Dog()"
   ]
  },
  {
   "cell_type": "markdown",
   "metadata": {},
   "source": [
    "To create an instance of your object, just assign a variable to it. Even if multiple objects are of the same class type, they are different instances/individuals:"
   ]
  },
  {
   "cell_type": "code",
   "execution_count": 21,
   "metadata": {},
   "outputs": [
    {
     "data": {
      "text/plain": [
       "False"
      ]
     },
     "execution_count": 21,
     "metadata": {},
     "output_type": "execute_result"
    }
   ],
   "source": [
    "a = Dog()\n",
    "b = Dog()\n",
    "a == b"
   ]
  },
  {
   "cell_type": "markdown",
   "metadata": {},
   "source": [
    "### Initialize an instance"
   ]
  },
  {
   "cell_type": "markdown",
   "metadata": {},
   "source": [
    "`.__init__()` initializes each new instance of a class. It can have N arguments, but one of them has to be `self`, which will tell Python that the arguments will belong to a particular instance of that object. <br>\n",
    "In this example, we will add two attributes to `Dog`: `name` and `age`. To make these characteristics unique to each dog, we must set them in the constructor `__init__` method as such:\n",
    "- `self.name = name`\n",
    "- `self.age = age`"
   ]
  },
  {
   "cell_type": "code",
   "execution_count": 33,
   "metadata": {},
   "outputs": [],
   "source": [
    "class Dog():\n",
    "    species = \"Canis familiaris\"\n",
    "    def __init__(self, name, age):\n",
    "        self.name = name\n",
    "        self.age = age"
   ]
  },
  {
   "cell_type": "code",
   "execution_count": 38,
   "metadata": {},
   "outputs": [
    {
     "name": "stdout",
     "output_type": "stream",
     "text": [
      "<__main__.Dog object at 0x11322a5e0>\n",
      "Canis familiaris\n",
      "Snoopy\n",
      "2\n"
     ]
    }
   ],
   "source": [
    "snoopy = Dog(name=\"Snoopy\", age=2)\n",
    "print(snoopy)\n",
    "print(snoopy.species)\n",
    "print(snoopy.name)\n",
    "print(snoopy.age)"
   ]
  },
  {
   "cell_type": "code",
   "execution_count": 39,
   "metadata": {},
   "outputs": [
    {
     "name": "stdout",
     "output_type": "stream",
     "text": [
      "<__main__.Dog object at 0x11322a9d0>\n",
      "Canis familiaris\n",
      "Max\n",
      "5\n"
     ]
    }
   ],
   "source": [
    "max = Dog(name=\"Max\", age=5)\n",
    "print(max)\n",
    "print(max.species)\n",
    "print(max.name)\n",
    "print(max.age)"
   ]
  },
  {
   "cell_type": "markdown",
   "metadata": {},
   "source": [
    "You can overwrite attributes of a class as such:"
   ]
  },
  {
   "cell_type": "code",
   "execution_count": 40,
   "metadata": {},
   "outputs": [
    {
     "name": "stdout",
     "output_type": "stream",
     "text": [
      "4\n"
     ]
    }
   ],
   "source": [
    "snoopy.age = 4\n",
    "print(snoopy.age)"
   ]
  },
  {
   "cell_type": "markdown",
   "metadata": {},
   "source": [
    "### Instance methods"
   ]
  },
  {
   "cell_type": "markdown",
   "metadata": {},
   "source": [
    "Instance methods are functions that are defined inside a class and can only be called from an instance of that class. Just like `.__init__()`, an instance method’s first parameter is always self:"
   ]
  },
  {
   "cell_type": "code",
   "execution_count": 41,
   "metadata": {},
   "outputs": [],
   "source": [
    "class Dog:\n",
    "    species = \"Canis familiaris\"\n",
    "\n",
    "    def __init__(self, name, age):\n",
    "        self.name = name\n",
    "        self.age = age\n",
    "\n",
    "    # Instance method\n",
    "    def description(self):\n",
    "        return f\"{self.name} is {self.age} years old\"\n",
    "\n",
    "    # Another instance method\n",
    "    def speak(self, sound):\n",
    "        return f\"{self.name} says {sound}\""
   ]
  },
  {
   "cell_type": "code",
   "execution_count": 42,
   "metadata": {},
   "outputs": [
    {
     "name": "stdout",
     "output_type": "stream",
     "text": [
      "Snoopy is 2 years old\n",
      "Snoopy says bark\n"
     ]
    }
   ],
   "source": [
    "my_dog = Dog(name=\"Snoopy\", age=2)\n",
    "\n",
    "print(my_dog.description())\n",
    "print(my_dog.speak(sound=\"bark\"))"
   ]
  },
  {
   "cell_type": "markdown",
   "metadata": {},
   "source": [
    "### Inherit"
   ]
  },
  {
   "cell_type": "markdown",
   "metadata": {},
   "source": [
    "Inheritance is the process by which one class takes on the attributes and methods of another. Newly formed classes are called child classes, and the classes that child classes are derived from are called parent classes.\n",
    "\n",
    "Remember, to create a child class, you create new class with its own name and then put the name of the parent class in parentheses. Add the following to the dog.py file to create three new child classes of the Dog class"
   ]
  },
  {
   "cell_type": "code",
   "execution_count": 29,
   "metadata": {},
   "outputs": [],
   "source": [
    "class Bulldog(Dog):\n",
    "    pass\n",
    "\n",
    "class GermanShepard(Dog):\n",
    "    pass"
   ]
  },
  {
   "cell_type": "code",
   "execution_count": 30,
   "metadata": {},
   "outputs": [
    {
     "name": "stdout",
     "output_type": "stream",
     "text": [
      "Dorito\n",
      "Max\n",
      "Dorito says Grrrr\n",
      "Max says Woof Woof\n"
     ]
    }
   ],
   "source": [
    "buddy = Bulldog(name=\"Dorito\", age=5)\n",
    "jack = GermanShepard(name=\"Max\", age=1)\n",
    "\n",
    "print(buddy.name)\n",
    "print(jack.name)\n",
    "\n",
    "print(buddy.speak(sound=\"Grrrr\"))\n",
    "print(jack.speak(sound=\"Woof Woof\"))"
   ]
  },
  {
   "cell_type": "markdown",
   "metadata": {},
   "source": [
    "All objects created from a child class are instances of the parent class, although they may not be instances of other child classes."
   ]
  },
  {
   "cell_type": "code",
   "execution_count": 31,
   "metadata": {},
   "outputs": [
    {
     "name": "stdout",
     "output_type": "stream",
     "text": [
      "True\n",
      "True\n",
      "True\n",
      "False\n"
     ]
    }
   ],
   "source": [
    "print(isinstance(my_dog, Dog))\n",
    "print(isinstance(buddy, Dog))\n",
    "print(isinstance(buddy, Bulldog))\n",
    "print(isinstance(buddy, GermanShepard))"
   ]
  },
  {
   "cell_type": "markdown",
   "metadata": {},
   "source": [
    "To override a method defined on the parent class, you define a method with the same name on the child class:"
   ]
  },
  {
   "cell_type": "code",
   "execution_count": 32,
   "metadata": {},
   "outputs": [
    {
     "data": {
      "text/plain": [
       "'Dorito says Grrr'"
      ]
     },
     "execution_count": 32,
     "metadata": {},
     "output_type": "execute_result"
    }
   ],
   "source": [
    "class Bulldog(Dog):\n",
    "    def speak(self, sound=\"Grrr\"):\n",
    "        return f\"{self.name} says {sound}\"\n",
    "\n",
    "buddy = Bulldog(name=\"Dorito\", age=5)\n",
    "buddy.speak()  # No argument now"
   ]
  },
  {
   "cell_type": "markdown",
   "metadata": {},
   "source": [
    "### Types of methods\n",
    "\n",
    "- __Instance methods:__ This is a very basic and easy method that we use regularly when we create classes in python. If we want to print an instance variable or instance method we must create an object of that required class.\n",
    "If we are using self as a function parameter or in front of a variable, that is nothing but the calling instance itself.\n",
    "- __Class methods:__ Returns a class method as output for the given function. Uses the `@classmethod` notation.\n",
    "- __Static methods:__ A static method can be called without an object for that class, using the class name directly. If you want to do something extra with a class we use static methods. Usually are methods that make sense to be in the context of the class but don't need any instance variables to work."
   ]
  },
  {
   "cell_type": "markdown",
   "metadata": {},
   "source": [
    "#### Instance methods"
   ]
  },
  {
   "cell_type": "code",
   "execution_count": 43,
   "metadata": {},
   "outputs": [
    {
     "data": {
      "text/plain": [
       "12.5"
      ]
     },
     "execution_count": 43,
     "metadata": {},
     "output_type": "execute_result"
    }
   ],
   "source": [
    "class Student:\n",
    "    \n",
    "    def __init__(self, grade1, grade2):\n",
    "        self.grade1 = grade1\n",
    "        self.grade2 = grade2 \n",
    "    \n",
    "    def avg(self):\n",
    "        return (self.grade1 + self.grade2) / 2\n",
    "\n",
    "s = Student(grade1=10, grade2=15)\n",
    "s.avg()"
   ]
  },
  {
   "cell_type": "markdown",
   "metadata": {},
   "source": [
    "#### Class methods"
   ]
  },
  {
   "cell_type": "code",
   "execution_count": 47,
   "metadata": {},
   "outputs": [
    {
     "data": {
      "text/plain": [
       "'Student'"
      ]
     },
     "execution_count": 47,
     "metadata": {},
     "output_type": "execute_result"
    }
   ],
   "source": [
    "class Student:\n",
    "    name = \"Student\"\n",
    "    def __init__(self, grade1, grade2):\n",
    "        self.grade1 = grade1\n",
    "        self.grade2 = grade2 \n",
    "    \n",
    "    @classmethod\n",
    "    def info(cls):\n",
    "        return cls.name\n",
    "\n",
    "s = Student(grade1=10, grade2=15)\n",
    "s.info()"
   ]
  },
  {
   "cell_type": "markdown",
   "metadata": {},
   "source": [
    "#### Static methods"
   ]
  },
  {
   "cell_type": "code",
   "execution_count": 49,
   "metadata": {},
   "outputs": [
    {
     "name": "stdout",
     "output_type": "stream",
     "text": [
      "This is a student class\n"
     ]
    }
   ],
   "source": [
    "class Student:\n",
    "    name = 'Student'\n",
    "    def __init__(self, grade1, grade2):\n",
    "        self.grade1 = grade2\n",
    "        self.grade2 = grade2\n",
    "    \n",
    "    @staticmethod\n",
    "    def info():\n",
    "        return \"This is a student class\"\n",
    "\n",
    "s = Student(grade1=10, grade2=15)\n",
    "print(s.info())"
   ]
  }
 ],
 "metadata": {
  "interpreter": {
   "hash": "25e00414202323544a2c4fcb2b5674217696317a3370ff416c0f7a9c014b0eda"
  },
  "kernelspec": {
   "display_name": "Python 3.9.1 64-bit ('venv_classes')",
   "language": "python",
   "name": "python3"
  },
  "language_info": {
   "codemirror_mode": {
    "name": "ipython",
    "version": 3
   },
   "file_extension": ".py",
   "mimetype": "text/x-python",
   "name": "python",
   "nbconvert_exporter": "python",
   "pygments_lexer": "ipython3",
   "version": "3.9.1"
  },
  "orig_nbformat": 4
 },
 "nbformat": 4,
 "nbformat_minor": 2
}
